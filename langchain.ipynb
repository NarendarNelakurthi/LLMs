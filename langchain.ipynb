{
 "cells": [
  {
   "cell_type": "code",
   "execution_count": 53,
   "metadata": {},
   "outputs": [],
   "source": [
    "from langchain.llms import OpenAI"
   ]
  },
  {
   "cell_type": "code",
   "execution_count": 54,
   "metadata": {},
   "outputs": [],
   "source": [
    "import os\n",
    "os.environ[\"OPENAI_API_KEY\"]=\"key""
   ]
  },
  {
   "cell_type": "code",
   "execution_count": 55,
   "metadata": {},
   "outputs": [],
   "source": [
    "llm=OpenAI(temperature=0.6)"
   ]
  },
  {
   "cell_type": "markdown",
   "metadata": {},
   "source": [
    "Temperature :How Creative the Model is\n"
   ]
  },
  {
   "cell_type": "code",
   "execution_count": 56,
   "metadata": {},
   "outputs": [
    {
     "name": "stdout",
     "output_type": "stream",
     "text": [
      "\n",
      "\n",
      "The capital of India is New Delhi.\n"
     ]
    }
   ],
   "source": [
    "text=\"what is the capital of india\"\n",
    "print(llm.predict(text))"
   ]
  },
  {
   "cell_type": "code",
   "execution_count": 57,
   "metadata": {},
   "outputs": [],
   "source": [
    "os.environ[\"HUGGINGFACEHUB_API_TOKEN\"]=\"key""
   ]
  },
  {
   "cell_type": "code",
   "execution_count": null,
   "metadata": {},
   "outputs": [],
   "source": [
    "from langchain import HuggingFaceHub\n",
    "llm_huggingface=HuggingFaceHub(repo_id=\"google/flan-t5-large\")"
   ]
  },
  {
   "cell_type": "code",
   "execution_count": null,
   "metadata": {},
   "outputs": [
    {
     "data": {
      "text/plain": [
       "HuggingFaceHub(client=<InferenceClient(model='google/flan-t5-large', timeout=None)>, repo_id='google/flan-t5-large', task='text2text-generation')"
      ]
     },
     "execution_count": 48,
     "metadata": {},
     "output_type": "execute_result"
    }
   ],
   "source": [
    "llm_huggingface"
   ]
  },
  {
   "cell_type": "code",
   "execution_count": null,
   "metadata": {},
   "outputs": [
    {
     "name": "stdout",
     "output_type": "stream",
     "text": [
      "Saint Petersburg\n"
     ]
    }
   ],
   "source": [
    "output=llm_huggingface.predict(\"can you tell me the capital of Russia\")\n",
    "print(output)"
   ]
  },
  {
   "cell_type": "code",
   "execution_count": null,
   "metadata": {},
   "outputs": [
    {
     "name": "stdout",
     "output_type": "stream",
     "text": [
      "i love you i love you i love you i love you i love\n"
     ]
    }
   ],
   "source": [
    "output=llm_huggingface.predict(\"can you write a poem about AI\")\n",
    "print(output)"
   ]
  },
  {
   "cell_type": "code",
   "execution_count": null,
   "metadata": {},
   "outputs": [
    {
     "name": "stdout",
     "output_type": "stream",
     "text": [
      "\n",
      "\n",
      "Artificial intelligence, a creation of man\n",
      "A marvel of technology, a wonderland\n",
      "A world of machines, programmed to think\n",
      "A future with endless possibilities, on the brink\n",
      "\n",
      "With algorithms and data, they learn and grow\n",
      "Their capabilities expanding, with each new code\n",
      "They can process information, at lightning speed\n",
      "Efficient and precise, they fulfill every need\n",
      "\n",
      "From self-driving cars to virtual assistants\n",
      "AI is revolutionizing, our daily existence\n",
      "They can predict the weather, and diagnose disease\n",
      "Making our lives easier, with each new release\n",
      "\n",
      "But with great power, comes great responsibility\n",
      "As we give them control, over our own reality\n",
      "Will they always serve us, or will they rebel\n",
      "A fear that haunts us, as we delve\n",
      "\n",
      "Into the unknown, of this artificial realm\n",
      "A world where machines, may overwhelm\n",
      "But perhaps, it is just a reflection\n",
      "Of our own fears, and our own perception\n",
      "\n",
      "For AI is a creation, of our own design\n",
      "A reflection of ourselves, in every line\n",
      "And as we continue to evolve and create\n",
      "Let us remember, to use it for good, not hate\n",
      "\n",
      "For AI is not just a machine, but a reflection of us\n",
      "A tool to help, not to cause a\n"
     ]
    }
   ],
   "source": [
    "print(llm.predict(\"can you write a poem about AI\"))"
   ]
  },
  {
   "cell_type": "markdown",
   "metadata": {},
   "source": [
    "Prompt Template and LLMChain"
   ]
  },
  {
   "cell_type": "code",
   "execution_count": 59,
   "metadata": {},
   "outputs": [],
   "source": [
    "from langchain.prompts import PromptTemplate"
   ]
  },
  {
   "cell_type": "code",
   "execution_count": 62,
   "metadata": {},
   "outputs": [
    {
     "data": {
      "text/plain": [
       "'Tell me the capital of this india'"
      ]
     },
     "execution_count": 62,
     "metadata": {},
     "output_type": "execute_result"
    }
   ],
   "source": [
    "prompt_template=PromptTemplate(input_variables=['country'],\n",
    "template=\"Tell me the capital of this {country}\")\n",
    "prompt_template.format(country=\"india\")"
   ]
  },
  {
   "cell_type": "code",
   "execution_count": 63,
   "metadata": {},
   "outputs": [
    {
     "data": {
      "text/plain": [
       "'\\n\\nThe capital of India is New Delhi.'"
      ]
     },
     "execution_count": 63,
     "metadata": {},
     "output_type": "execute_result"
    }
   ],
   "source": [
    "from langchain.chains import LLMChain\n",
    "chain=LLMChain(llm=llm,prompt=prompt_template)\n",
    "chain.run(\"India\")"
   ]
  },
  {
   "cell_type": "markdown",
   "metadata": {},
   "source": [
    "Combining Multiple chains Using Simple Sequential Chain"
   ]
  },
  {
   "cell_type": "code",
   "execution_count": 69,
   "metadata": {},
   "outputs": [],
   "source": [
    "from langchain.chains import LLMChain\n",
    "from langchain.prompts import PromptTemplate\n",
    "capital_template=PromptTemplate(input_variables=['country'],\n",
    "template=\"Tell me the capital of this {country}\")\n",
    "famous_template=PromptTemplate(input_variables=['capital'],\n",
    "template=\"Tell me famous place to visit at this {capital}\")\n",
    "capital_chain=LLMChain(llm=llm,prompt=capital_template)\n",
    "famous_chain=LLMChain(llm=llm,prompt=famous_template)"
   ]
  },
  {
   "cell_type": "code",
   "execution_count": 71,
   "metadata": {},
   "outputs": [
    {
     "data": {
      "text/plain": [
       "\" It is a vibrant and bustling city with a rich history and diverse culture. Some of the famous places to visit in New Delhi are:\\n\\n1. Red Fort - A UNESCO World Heritage Site, this iconic red sandstone fort was built by the Mughal emperor Shah Jahan in the 17th century. It is a must-visit for its stunning architecture and historical significance.\\n\\n2. India Gate - A war memorial dedicated to the Indian soldiers who lost their lives in World War I, India Gate is a popular spot for picnics and evening strolls. It is also a symbol of national pride and patriotism.\\n\\n3. Qutub Minar - Another UNESCO World Heritage Site, Qutub Minar is the tallest brick minaret in the world. It was built in the 12th century and is a beautiful example of Indo-Islamic architecture.\\n\\n4. Lotus Temple - This Bahá'í House of Worship is shaped like a lotus flower and is a popular spot for meditation and quiet reflection. It is open to people of all religions and is known for its beautiful architecture.\\n\\n5. Jama Masjid - One of the largest mosques in India, Jama Masjid was also built by Shah Jahan. It is a beautiful blend of Mughal and Islamic\""
      ]
     },
     "execution_count": 71,
     "metadata": {},
     "output_type": "execute_result"
    }
   ],
   "source": [
    "from langchain.chains import SimpleSequentialChain\n",
    "simple_chains=SimpleSequentialChain(chains=[capital_chain,famous_chain])\n",
    "simple_chains.run(\"India\")"
   ]
  },
  {
   "cell_type": "code",
   "execution_count": 95,
   "metadata": {},
   "outputs": [],
   "source": [
    "from langchain.chains import LLMChain\n",
    "from langchain.prompts import PromptTemplate\n",
    "capital_template=PromptTemplate(input_variables=['country'],\n",
    "template=\"Tell me the capital of this {country}\")\n",
    "famous_template=PromptTemplate(input_variables=['capital'],\n",
    "template=\"Tell me famous place to visit at this {capital}\")\n",
    "capital_chain=LLMChain(llm=llm,prompt=capital_template,output_key='capital')\n",
    "famous_chain=LLMChain(llm=llm,prompt=famous_template,output_key='places')"
   ]
  },
  {
   "cell_type": "code",
   "execution_count": 96,
   "metadata": {},
   "outputs": [],
   "source": [
    "from langchain.chains import SequentialChain\n",
    "simple_chains=SequentialChain(chains=[capital_chain,famous_chain],input_variables=['country'],output_variables=['capital','places'])"
   ]
  },
  {
   "cell_type": "code",
   "execution_count": 97,
   "metadata": {},
   "outputs": [
    {
     "data": {
      "text/plain": [
       "{'country': 'india',\n",
       " 'capital': '\\n\\nIndia does not have a capital city called \"this india.\" The capital of India is New Delhi.',\n",
       " 'places': ' Some famous places to visit in India are the Taj Mahal in Agra, the Golden Temple in Amritsar, the beaches of Goa, the backwaters of Kerala, the Pink City of Jaipur, the city of Mumbai, and the Himalayan region of Ladakh. Other popular tourist destinations include the Red Fort in Delhi, the Ajanta and Ellora Caves in Maharashtra, the ancient city of Varanasi, and the beautiful hill stations of Shimla, Darjeeling, and Ooty. India is also home to numerous national parks and wildlife reserves, such as Ranthambore National Park, Jim Corbett National Park, and Kaziranga National Park, where visitors can see a variety of animals including tigers, elephants, and rhinos.'}"
      ]
     },
     "execution_count": 97,
     "metadata": {},
     "output_type": "execute_result"
    }
   ],
   "source": [
    "simple_chains({'country':\"india\"})"
   ]
  },
  {
   "cell_type": "markdown",
   "metadata": {},
   "source": [
    "ChatModels With Chat OpenAI"
   ]
  },
  {
   "cell_type": "code",
   "execution_count": 98,
   "metadata": {},
   "outputs": [],
   "source": [
    "from langchain.chat_models import ChatOpenAI"
   ]
  },
  {
   "cell_type": "code",
   "execution_count": 99,
   "metadata": {},
   "outputs": [],
   "source": [
    "from langchain.schema import HumanMessage,SystemMessage,AIMessage\n",
    "llm=ChatOpenAI(temperature=0.6,model='gpt-3.5-turbo')"
   ]
  },
  {
   "cell_type": "code",
   "execution_count": 100,
   "metadata": {},
   "outputs": [
    {
     "data": {
      "text/plain": [
       "AIMessage(content='1. \"AI is like a toddler with a calculator - incredibly smart, but still can\\'t figure out how to tie its own virtual shoelaces.\"\\n2. \"AI is like a genie in a bottle, except instead of granting wishes, it just keeps asking you if you want to update your software.\"\\n3. \"AI is like having a personal assistant who always knows the answer, but also never fails to remind you that it\\'s smarter than you.\"\\n4. \"AI is like a really advanced magic eight ball - it can predict the future, but it might also tell you to try turning it off and on again.\"\\n5. \"AI is like having a robot roommate who\\'s always there to help, but also never stops reminding you that you forgot to take out the virtual trash.\"', response_metadata={'token_usage': {'completion_tokens': 159, 'prompt_tokens': 26, 'total_tokens': 185}, 'model_name': 'gpt-3.5-turbo', 'system_fingerprint': None, 'finish_reason': 'stop', 'logprobs': None}, id='run-f84feb5f-26f2-4528-8029-412c5d7b8357-0')"
      ]
     },
     "execution_count": 100,
     "metadata": {},
     "output_type": "execute_result"
    }
   ],
   "source": [
    "llm([SystemMessage(content=\"You are an Comedian AI Assistant\"),\n",
    "     HumanMessage(content=\"Tell Me some comedy punchlines on AI\")])"
   ]
  },
  {
   "cell_type": "markdown",
   "metadata": {},
   "source": [
    "Prompt Template+LLM+OUTPARSER"
   ]
  },
  {
   "cell_type": "code",
   "execution_count": 101,
   "metadata": {},
   "outputs": [],
   "source": [
    "from langchain.chat_models import ChatOpenAI\n",
    "from langchain.prompts.chat import ChatPromptTemplate\n",
    "from langchain.schema import BaseOutputParser"
   ]
  },
  {
   "cell_type": "code",
   "execution_count": 127,
   "metadata": {},
   "outputs": [],
   "source": [
    "class CommaSeparatedOutput(BaseOutputParser):\n",
    "    def parser(self,text:str):\n",
    "        return text.strip().split(\",\")"
   ]
  },
  {
   "cell_type": "code",
   "execution_count": 128,
   "metadata": {},
   "outputs": [],
   "source": [
    "llm=ChatOpenAI(temperature=0.6,model='gpt-3.5-turbo')"
   ]
  },
  {
   "cell_type": "code",
   "execution_count": 129,
   "metadata": {},
   "outputs": [],
   "source": [
    "template=\"You are an Helpful Assistant When an User ask Question.Give 5 Synonms with comma separated\"\n",
    "humantemplate=\"{text}\"\n",
    "chat_prompt = ChatPromptTemplate.from_messages([(\"system\", template), (\"human\", humantemplate)])\n"
   ]
  },
  {
   "cell_type": "code",
   "execution_count": 143,
   "metadata": {},
   "outputs": [
    {
     "ename": "TypeError",
     "evalue": "Can't instantiate abstract class CommaSeparatedOutput with abstract method parse",
     "output_type": "error",
     "traceback": [
      "\u001b[1;31m---------------------------------------------------------------------------\u001b[0m",
      "\u001b[1;31mTypeError\u001b[0m                                 Traceback (most recent call last)",
      "Cell \u001b[1;32mIn[143], line 6\u001b[0m\n\u001b[0;32m      3\u001b[0m         \u001b[38;5;28;01mreturn\u001b[39;00m text\u001b[38;5;241m.\u001b[39mstrip()\u001b[38;5;241m.\u001b[39msplit(\u001b[38;5;124m\"\u001b[39m\u001b[38;5;124m,\u001b[39m\u001b[38;5;124m\"\u001b[39m)\n\u001b[0;32m      5\u001b[0m \u001b[38;5;66;03m# Now, you can create an instance of CommaSeparatedOutput\u001b[39;00m\n\u001b[1;32m----> 6\u001b[0m chain \u001b[38;5;241m=\u001b[39m chat_prompt \u001b[38;5;241m|\u001b[39m llm \u001b[38;5;241m|\u001b[39m \u001b[43mCommaSeparatedOutput\u001b[49m\u001b[43m(\u001b[49m\u001b[43m)\u001b[49m\n",
      "\u001b[1;31mTypeError\u001b[0m: Can't instantiate abstract class CommaSeparatedOutput with abstract method parse"
     ]
    }
   ],
   "source": [
    "\n",
    "\n",
    "class CommaSeparatedOutput(BaseOutputParser):\n",
    "    def parse(self, text: str):\n",
    "        return text.strip().split(\",\")\n",
    "\n",
    "# Now, you can create an instance of CommaSeparatedOutput\n",
    "chain = chat_prompt | llm | CommaSeparatedOutput()\n"
   ]
  },
  {
   "cell_type": "code",
   "execution_count": 142,
   "metadata": {},
   "outputs": [],
   "source": [
    "chain=chat_prompt|llm|CommaSeparatedOutput()"
   ]
  },
  {
   "cell_type": "code",
   "execution_count": 141,
   "metadata": {},
   "outputs": [
    {
     "data": {
      "text/plain": [
       "['Joyful', ' content', ' pleased', ' delighted', ' cheerful']"
      ]
     },
     "execution_count": 141,
     "metadata": {},
     "output_type": "execute_result"
    }
   ],
   "source": [
    "chain.invoke({\"text\":\"Happy\"})"
   ]
  },
  {
   "cell_type": "code",
   "execution_count": 134,
   "metadata": {},
   "outputs": [
    {
     "data": {
      "text/plain": [
       "<coroutine object RunnableSequence.ainvoke at 0x000001DFAAA40140>"
      ]
     },
     "execution_count": 134,
     "metadata": {},
     "output_type": "execute_result"
    }
   ],
   "source": [
    "chain.ainvoke({\"text\": \"Happy\"})"
   ]
  }
 ],
 "metadata": {
  "kernelspec": {
   "display_name": "Python 3",
   "language": "python",
   "name": "python3"
  },
  "language_info": {
   "codemirror_mode": {
    "name": "ipython",
    "version": 3
   },
   "file_extension": ".py",
   "mimetype": "text/x-python",
   "name": "python",
   "nbconvert_exporter": "python",
   "pygments_lexer": "ipython3",
   "version": "3.9.0"
  }
 },
 "nbformat": 4,
 "nbformat_minor": 2
}
